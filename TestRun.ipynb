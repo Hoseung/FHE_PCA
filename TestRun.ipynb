{
 "cells": [
  {
   "cell_type": "code",
   "execution_count": 1,
   "id": "0d0727b2",
   "metadata": {},
   "outputs": [],
   "source": [
    "%load_ext autoreload\n",
    "%autoreload 2"
   ]
  },
  {
   "cell_type": "code",
   "execution_count": 4,
   "id": "26ab70a7",
   "metadata": {},
   "outputs": [],
   "source": [
    "from fase.seal import * \n",
    "import numpy as np\n",
    "import time, sys \n",
    "from sklearn.metrics import r2_score\n",
    "from read_data import *\n",
    "from server import *\n",
    "from user import *\n",
    "\n",
    "import matplotlib.pyplot as plt\n",
    "from mpl_toolkits.mplot3d import Axes3D"
   ]
  },
  {
   "cell_type": "code",
   "execution_count": 5,
   "id": "30055a90",
   "metadata": {},
   "outputs": [],
   "source": [
    "class Key:\n",
    "    def __init__(self, context):\n",
    "        keygen = KeyGenerator(context)\n",
    "        self.public_key = keygen.create_public_key()\n",
    "        self.private_key = keygen.secret_key() \n",
    "        self.relin_keys = keygen.create_relin_keys()\n",
    "        self.gal_keys = keygen.create_galois_keys()"
   ]
  },
  {
   "cell_type": "code",
   "execution_count": 6,
   "id": "fe4279b3",
   "metadata": {},
   "outputs": [],
   "source": [
    "#CKKS Parameters\n",
    "params = EncryptionParameters(scheme_type.ckks)\n",
    "poly_modulus_degree = 2**15\n",
    "# poly_modulus_degree = 2**14\n",
    "params.set_poly_modulus_degree(poly_modulus_degree)\n",
    "params.set_coeff_modulus(CoeffModulus.Create(poly_modulus_degree, \n",
    "                                             [60, 40, 40, 40, 40, 40, 40, 40, 40, 40, 40, 40, 60]))\n",
    "# params.set_coeff_modulus(CoeffModulus.Create(poly_modulus_degree, [59, 40, 40, 40, 40, 40, 40, 40, 40, 59]))\n",
    "# params.set_coeff_modulus(CoeffModulus.Create(poly_modulus_degree, [60, 40, 40, 40, 40, 40, 40, 40, 60]))\n",
    "\n",
    "context = SEALContext(params)\n",
    "keygen = KeyGenerator(context)\n",
    "keys = Key(context)\n",
    "\n",
    "## What's wrong with keys.private_key??\n",
    "keys.private_key = keygen.secret_key()\n",
    "keys.public_key = keygen.create_public_key()\n",
    "keys.relin_keys = keygen.create_relin_keys()\n",
    "keys.gal_keys = keygen.create_galois_keys()\n",
    "\n",
    "user = USER(keys, context)"
   ]
  },
  {
   "cell_type": "code",
   "execution_count": 16,
   "id": "d7cf3350",
   "metadata": {},
   "outputs": [
    {
     "name": "stdout",
     "output_type": "stream",
     "text": [
      "Reading images\n"
     ]
    }
   ],
   "source": [
    "dim = 4\n",
    "imgs = 200\n",
    "\n",
    "##Datasets\n",
    "\n",
    "# X_ori = wine_data()\n",
    "# X_ori = wine_data(\"white\")\n",
    "# X_ori = air_quality_data()\n",
    "# X_ori = parkinson_data()\n",
    "X_ori = load_mnist(\"training\", path='./MNIST/', no_of_imgs=imgs)\n",
    "# X_ori = load_fashion_mnist(\"training\", no_of_imgs=imgs)\n",
    "# size = X_ori.shape\n",
    "# # X_ori = X_ori.reshape((size[0], size[1]*size[2]))\n",
    "\n",
    "#X_ori = load_yale()"
   ]
  },
  {
   "cell_type": "code",
   "execution_count": 17,
   "id": "c58f6164",
   "metadata": {},
   "outputs": [
    {
     "name": "stdout",
     "output_type": "stream",
     "text": [
      "Shape of data = (200, 256)\n",
      "N = 200 k = 256 j = 64\n",
      "Encrypting\n",
      "No.of levels = 11\n"
     ]
    }
   ],
   "source": [
    "mu = np.mean(X_ori, axis=0)\n",
    "X = X_ori - mu\n",
    "print(\"Shape of data =\", X.shape)\n",
    "\n",
    "X_cipher = user.encrypt_data(X)\n",
    "print(\"No.of levels =\", context.get_context_data(X_cipher[0].parms_id()).chain_index())\n",
    "# print(X_cipher.shape, user.incr, user.vec_len)"
   ]
  },
  {
   "cell_type": "code",
   "execution_count": 18,
   "id": "7a4e700a",
   "metadata": {},
   "outputs": [
    {
     "name": "stdout",
     "output_type": "stream",
     "text": [
      "Eigen vector : 1\n",
      "final eig_val 4.3481411264411076e-05\n",
      "Eigen vector : 2\n",
      "final eig_val 4.2520857978660557e-05\n",
      "Eigen vector : 3\n",
      "final eig_val 4.237642143347425e-05\n",
      "Eigen vector : 4\n",
      "final eig_val 4.526333093992197e-05\n",
      "(200, 4)\n",
      "No.of re-encryptions = 112\n",
      "Time taken = 4.154178134600321 mins\n",
      "R2 score = 4.119968255444917e-17\n"
     ]
    }
   ],
   "source": [
    "server = SERVER(keys, user.incr, dim, context)\n",
    "start = time.time()\n",
    "eig_val, eig_vec = server.power_iteration(X_cipher)\n",
    "end = time.time()\n",
    "vec = user.extract_eigen_vectors(eig_vec, X.shape[1])\n",
    "with open(\"eigen_vector.npy\", \"wb\") as file:\n",
    "    np.save(file, vec)\n",
    "\n",
    "X_red = X.dot(vec)\n",
    "print(X_red.shape)\n",
    "X_new = X_red.dot(vec.T) + mu \n",
    "print(\"No.of re-encryptions =\", server.count)\n",
    "print(\"Time taken =\",(end-start)/60,\"mins\")\n",
    "print(\"R2 score =\", r2_score(X_ori, X_new))"
   ]
  },
  {
   "cell_type": "code",
   "execution_count": null,
   "id": "6692e451",
   "metadata": {},
   "outputs": [],
   "source": []
  },
  {
   "cell_type": "code",
   "execution_count": null,
   "id": "cc614f52",
   "metadata": {},
   "outputs": [],
   "source": []
  },
  {
   "cell_type": "code",
   "execution_count": 16,
   "id": "09712774",
   "metadata": {
    "scrolled": false
   },
   "outputs": [
    {
     "name": "stdout",
     "output_type": "stream",
     "text": [
      "Eigen vector : 1\n",
      "final eig_val 1.5834979512077e-05\n",
      "Eigen vector : 2\n",
      "final eig_val 1.5610710051855865e-05\n",
      "Eigen vector : 3\n",
      "final eig_val 1.429437611646756e-05\n",
      "Eigen vector : 4\n",
      "final eig_val 1.6556844923344145e-05\n",
      "(165, 4)\n",
      "No.of re-encryptions = 112\n",
      "Time taken = 3.5043052554130556 mins\n",
      "R2 score = 4.723100816700354e-12\n"
     ]
    }
   ],
   "source": [
    "server = SERVER(keys, user.incr, dim, context)\n",
    "start = time.time()\n",
    "eig_val, eig_vec = server.power_iteration(X_cipher)\n",
    "end = time.time()\n",
    "vec = user.extract_eigen_vectors(eig_vec, X.shape[1])\n",
    "with open(\"eigen_vector.npy\", \"wb\") as file:\n",
    "    np.save(file, vec)\n",
    "\n",
    "X_red = X.dot(vec)\n",
    "print(X_red.shape)\n",
    "X_new = X_red.dot(vec.T) + mu \n",
    "print(\"No.of re-encryptions =\", server.count)\n",
    "print(\"Time taken =\",(end-start)/60,\"mins\")\n",
    "print(\"R2 score =\", r2_score(X_ori, X_new))"
   ]
  },
  {
   "cell_type": "code",
   "execution_count": 18,
   "id": "506fc17d",
   "metadata": {},
   "outputs": [
    {
     "data": {
      "text/plain": [
       "(256, 4)"
      ]
     },
     "execution_count": 18,
     "metadata": {},
     "output_type": "execute_result"
    }
   ],
   "source": [
    "vec.shape"
   ]
  },
  {
   "cell_type": "code",
   "execution_count": 20,
   "id": "b3c60077",
   "metadata": {},
   "outputs": [
    {
     "data": {
      "text/plain": [
       "(165, 256)"
      ]
     },
     "execution_count": 20,
     "metadata": {},
     "output_type": "execute_result"
    }
   ],
   "source": [
    "X_new.shape"
   ]
  },
  {
   "cell_type": "code",
   "execution_count": null,
   "id": "a9e8d135",
   "metadata": {},
   "outputs": [],
   "source": []
  }
 ],
 "metadata": {
  "kernelspec": {
   "display_name": "Python 3 (ipykernel)",
   "language": "python",
   "name": "python3"
  },
  "language_info": {
   "codemirror_mode": {
    "name": "ipython",
    "version": 3
   },
   "file_extension": ".py",
   "mimetype": "text/x-python",
   "name": "python",
   "nbconvert_exporter": "python",
   "pygments_lexer": "ipython3",
   "version": "3.9.0"
  }
 },
 "nbformat": 4,
 "nbformat_minor": 5
}
